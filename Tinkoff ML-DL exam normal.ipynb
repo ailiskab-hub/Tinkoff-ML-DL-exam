{
 "cells": [
  {
   "cell_type": "markdown",
   "id": "56930ca7",
   "metadata": {},
   "source": [
    "Первый вариант решения с помощью n-грамной модели"
   ]
  },
  {
   "cell_type": "code",
   "execution_count": 1,
   "id": "3e4ca16d",
   "metadata": {},
   "outputs": [],
   "source": [
    "import numpy as np\n",
    "import pandas as pd\n",
    "from IPython.core.interactiveshell import InteractiveShell\n",
    "InteractiveShell.ast_node_interactivity = \"all\"\n",
    "import re\n",
    "from collections import Counter"
   ]
  },
  {
   "cell_type": "markdown",
   "id": "19cd8618",
   "metadata": {},
   "source": [
    "Для создания и обучения модели я буду испоьзовать несколько текстов книг: Гарри Поттера и Хоббита"
   ]
  },
  {
   "cell_type": "code",
   "execution_count": 2,
   "id": "72fcab99",
   "metadata": {},
   "outputs": [],
   "source": [
    "with open ('64735.txt', encoding=\"utf-8\") as text_file:\n",
    "    text = text_file.readlines()\n",
    "text = ' '.join(text)\n",
    "text = text.lower()"
   ]
  },
  {
   "cell_type": "markdown",
   "id": "dcaab227",
   "metadata": {},
   "source": [
    "С помощью регулярных выражений произвожу отбор всех слов"
   ]
  },
  {
   "cell_type": "code",
   "execution_count": 3,
   "id": "9c2573ca",
   "metadata": {},
   "outputs": [],
   "source": [
    "import re\n",
    "pattern = r'\\b[а-яё]+\\b'\n",
    "words = re.findall(pattern, text)"
   ]
  },
  {
   "cell_type": "markdown",
   "id": "03e921bd",
   "metadata": {},
   "source": [
    "Первым делом создадим словарь, в котором каждому слову будет присвоен определенный уникальный индекс. А также создадим обратный словарь, где каждому индексу будет соответствовать свое слово. А также создадим последовательность слдов в исходном тексте"
   ]
  },
  {
   "cell_type": "code",
   "execution_count": 5,
   "id": "29dcbbab",
   "metadata": {},
   "outputs": [],
   "source": [
    "cnt = Counter(words)\n",
    "counts = sorted(cnt.items(), key = lambda x: x[1], reverse=True)\n",
    "only_words_sorted = [word for word, summ in counts]\n",
    "word_to_ind = {word: index for index, word in enumerate(only_words_sorted)}\n",
    "ind_to_word = {value: key for key, value in word_to_ind.items()}\n",
    "seq = np.array([word_to_ind[word] for word in words])"
   ]
  },
  {
   "cell_type": "markdown",
   "id": "28e90190",
   "metadata": {},
   "source": [
    "Создадим N-граммную модель"
   ]
  },
  {
   "cell_type": "code",
   "execution_count": 7,
   "id": "41a3b5df",
   "metadata": {},
   "outputs": [],
   "source": [
    "d = {}\n",
    "for i in range(len(words)-1):\n",
    "    key = words[i]\n",
    "    if key not in d.keys():\n",
    "        d[key] = []\n",
    "        d[key].append(words[i+1])\n",
    "    else:\n",
    "        d[key].append(words[i+1])"
   ]
  },
  {
   "cell_type": "code",
   "execution_count": 8,
   "id": "9843640a",
   "metadata": {},
   "outputs": [],
   "source": [
    "n_mod = {}\n",
    "for key, value in d.items():\n",
    "    new_val = []\n",
    "    for word in value:\n",
    "        p = value.count(word)/len(value)\n",
    "        word_p = (word, p)\n",
    "        new_val.append(word_p)\n",
    "    \n",
    "    n_mod[key] = list(set(new_val))"
   ]
  },
  {
   "cell_type": "code",
   "execution_count": 9,
   "id": "6c26698e",
   "metadata": {},
   "outputs": [],
   "source": [
    "n_mod_2 = {}\n",
    "for key, value in n_mod.items():\n",
    "    key = word_to_ind[key]\n",
    "    arr_words = []\n",
    "    arr_p = []\n",
    "    for pair in value:\n",
    "        arr_words.append(word_to_ind[pair[0]])\n",
    "        arr_p.append(pair[1])\n",
    "    n_mod_2[key] = [arr_words, arr_p]"
   ]
  },
  {
   "cell_type": "markdown",
   "id": "abc38df8",
   "metadata": {},
   "source": [
    "В работе я буду использовать n_mod_2, где во-первых слова зашифрованы в индексы, а во вторых этот словарь содержит в себе два списка: следующие за словом слова и соответсятвующие им вероятности"
   ]
  },
  {
   "cell_type": "markdown",
   "id": "97e79d0b",
   "metadata": {},
   "source": [
    "Затем я создаю функцию, для продолжения текста. Она принимает на вход начало текста и количество слов ожидаемого текста. Возвращает соответсятвенно текст с продолжением"
   ]
  },
  {
   "cell_type": "code",
   "execution_count": 12,
   "id": "3c372491",
   "metadata": {},
   "outputs": [],
   "source": [
    "def text_continue(beggining, l):\n",
    "    l = l-1\n",
    "    k_w = word_to_ind[beggining[-1]]\n",
    "    if sum(n_mod_2[k_w][1]) != 1:\n",
    "        n_mod_2[k_w][1][0] += 1 - sum(n_mod_2[k_w][1])\n",
    "    top_ind = np.random.choice(n_mod_2[k_w][0], p=n_mod_2[k_w][1])\n",
    "    beggining.append(ind_to_word[top_ind])\n",
    "    if l > 0:\n",
    "        text_continue(beggining, l)\n",
    "    return ' '.join(beggining)"
   ]
  },
  {
   "cell_type": "markdown",
   "id": "e3698446",
   "metadata": {},
   "source": [
    "Затем непосредственно генерация текста"
   ]
  },
  {
   "cell_type": "code",
   "execution_count": 16,
   "id": "9ee65a92",
   "metadata": {},
   "outputs": [
    {
     "name": "stdout",
     "output_type": "stream",
     "text": [
      "мой хороший\n",
      "10\n",
      "мой хороший парень гарри эти слухи о тролле старой распре между ними\n"
     ]
    }
   ],
   "source": [
    "beg = input().lower().split()\n",
    "size = int(input())\n",
    "print(text_continue(beg, size))"
   ]
  },
  {
   "cell_type": "markdown",
   "id": "29e7f9b3",
   "metadata": {},
   "source": [
    "Да, текст полученный на выходе выглядит глупо и несуразно, так как не проводилось никакого обучения и \"работы над ошибками\", соответственно здесь мы имеем дело практически с рандомными последовательностями"
   ]
  },
  {
   "cell_type": "code",
   "execution_count": null,
   "id": "0b89e59d",
   "metadata": {},
   "outputs": [],
   "source": []
  }
 ],
 "metadata": {
  "kernelspec": {
   "display_name": "Python 3 (ipykernel)",
   "language": "python",
   "name": "python3"
  },
  "language_info": {
   "codemirror_mode": {
    "name": "ipython",
    "version": 3
   },
   "file_extension": ".py",
   "mimetype": "text/x-python",
   "name": "python",
   "nbconvert_exporter": "python",
   "pygments_lexer": "ipython3",
   "version": "3.9.12"
  }
 },
 "nbformat": 4,
 "nbformat_minor": 5
}
